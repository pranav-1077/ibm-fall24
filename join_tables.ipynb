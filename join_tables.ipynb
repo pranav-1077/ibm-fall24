{
  "nbformat": 4,
  "nbformat_minor": 0,
  "metadata": {
    "colab": {
      "provenance": []
    },
    "kernelspec": {
      "name": "python3",
      "display_name": "Python 3"
    },
    "language_info": {
      "name": "python"
    }
  },
  "cells": [
    {
      "cell_type": "code",
      "execution_count": null,
      "metadata": {
        "colab": {
          "base_uri": "https://localhost:8080/"
        },
        "id": "hHrZPdsijA0U",
        "outputId": "d0f5bd7c-a4f7-4784-8c77-551358c7f891"
      },
      "outputs": [
        {
          "output_type": "stream",
          "name": "stdout",
          "text": [
            "Mounted at /content/drive\n"
          ]
        }
      ],
      "source": [
        "# prompt: mount drive to colab\n",
        "\n",
        "from google.colab import drive\n",
        "drive.mount('/content/drive')"
      ]
    },
    {
      "cell_type": "code",
      "source": [
        "coords_path = '/content/drive/MyDrive/lcai_coords.txt'\n",
        "desc_path = '/content/drive/MyDrive/image_descriptions.csv'"
      ],
      "metadata": {
        "id": "Ubix5O3ajWyv"
      },
      "execution_count": null,
      "outputs": []
    },
    {
      "cell_type": "code",
      "source": [
        "import pandas as pd\n",
        "\n",
        "# File paths\n",
        "coords_path = '/content/drive/MyDrive/lcai_coords.txt'\n",
        "desc_path = '/content/drive/MyDrive/image_descriptions.csv'\n",
        "\n",
        "# Load the text file into a DataFrame\n",
        "coords_df = pd.read_csv(coords_path, delimiter=',')  # Adjust delimiter if needed\n",
        "# Ensure column names are correctly set\n",
        "coords_df.columns = [col.strip() for col in coords_df.columns]\n",
        "\n",
        "# Load the CSV file into a DataFrame\n",
        "desc_df = pd.read_csv(desc_path)\n",
        "\n",
        "# Preprocess the 'image_name' column in desc_df\n",
        "# Remove 'tif_patches/' from the 'image_name' column\n",
        "desc_df['image_name'] = desc_df['image_name'].str.replace('tif_patches/', '', regex=False)\n",
        "# Perform the join on 'image_id' (TXT) and 'image_name' (CSV)\n",
        "joined_df = coords_df.merge(desc_df, left_on='image_id', right_on='image_name', how='inner')\n",
        "\n",
        "# Display the resulting DataFrame\n",
        "print(joined_df.head())\n",
        "print(joined_df.shape)"
      ],
      "metadata": {
        "colab": {
          "base_uri": "https://localhost:8080/"
        },
        "id": "IZ5Zzex_lWJl",
        "outputId": "67a922c3-78bb-49a4-f104-5e47cbc0f960"
      },
      "execution_count": null,
      "outputs": [
        {
          "output_type": "stream",
          "name": "stdout",
          "text": [
            "                      image_id  upper_left_lat_dec  upper_left_lon_dec  \\\n",
            "0     N-34-140-A-d-3-4_0_0.tif           52.188207           21.656291   \n",
            "1   N-34-140-A-d-3-4_0_512.tif           52.187058           21.656223   \n",
            "2  N-34-140-A-d-3-4_0_1024.tif           52.185908           21.656154   \n",
            "3  N-34-140-A-d-3-4_0_1536.tif           52.184758           21.656086   \n",
            "4  N-34-140-A-d-3-4_0_2048.tif           52.183608           21.656017   \n",
            "\n",
            "   lower_right_lat_dec  lower_right_lon_dec  distance  \\\n",
            "0            52.187015            21.658094      9.58   \n",
            "1            52.185866            21.658025     56.32   \n",
            "2            52.184716            21.657956     47.51   \n",
            "3            52.183566            21.657888     41.42   \n",
            "4            52.182416            21.657819     77.40   \n",
            "\n",
            "                    image_name  \\\n",
            "0     N-34-140-A-d-3-4_0_0.tif   \n",
            "1   N-34-140-A-d-3-4_0_512.tif   \n",
            "2  N-34-140-A-d-3-4_0_1024.tif   \n",
            "3  N-34-140-A-d-3-4_0_1536.tif   \n",
            "4  N-34-140-A-d-3-4_0_2048.tif   \n",
            "\n",
            "                                         description  \n",
            "0  some buildings and many green trees are locate...  \n",
            "1  some buildings and many green trees are in an ...  \n",
            "2  some buildings and many green trees are locate...  \n",
            "3             many green trees are in a square area.  \n",
            "4            a road is near a piece of green meadow.  \n",
            "(12004, 8)\n"
          ]
        }
      ]
    },
    {
      "cell_type": "code",
      "source": [
        "joined_df.to_csv('/content/drive/MyDrive/rsc_joined.csv', index=False)"
      ],
      "metadata": {
        "id": "bNJeK5jdlZKq"
      },
      "execution_count": null,
      "outputs": []
    }
  ]
}