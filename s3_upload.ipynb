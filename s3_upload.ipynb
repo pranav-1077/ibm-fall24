{
  "nbformat": 4,
  "nbformat_minor": 0,
  "metadata": {
    "colab": {
      "provenance": []
    },
    "kernelspec": {
      "name": "python3",
      "display_name": "Python 3"
    },
    "language_info": {
      "name": "python"
    }
  },
  "cells": [
    {
      "cell_type": "code",
      "execution_count": null,
      "metadata": {
        "colab": {
          "base_uri": "https://localhost:8080/"
        },
        "id": "jTnjzY2vuD97",
        "outputId": "3de491cc-d22c-4500-bfb5-058f95929799"
      },
      "outputs": [
        {
          "output_type": "stream",
          "name": "stdout",
          "text": [
            "Mounted at /content/drive\n"
          ]
        }
      ],
      "source": [
        "# prompt: mount drive to colab\n",
        "\n",
        "from google.colab import drive\n",
        "drive.mount('/content/drive')"
      ]
    },
    {
      "cell_type": "code",
      "source": [
        "!pip install boto3"
      ],
      "metadata": {
        "id": "c4tvf7P5uHfK"
      },
      "execution_count": null,
      "outputs": []
    },
    {
      "cell_type": "code",
      "source": [
        "!pip install -q awscli"
      ],
      "metadata": {
        "id": "_Mn59wzgwqbr"
      },
      "execution_count": null,
      "outputs": []
    },
    {
      "cell_type": "code",
      "source": [
        "!aws configure"
      ],
      "metadata": {
        "id": "bMFSqCuqw36X"
      },
      "execution_count": null,
      "outputs": []
    },
    {
      "cell_type": "code",
      "source": [
        "import os\n",
        "import boto3\n",
        "from botocore.exceptions import NoCredentialsError\n",
        "\n",
        "def upload_images_to_s3(local_folder, bucket_name, s3_subfolder):\n",
        "    s3_client = boto3.client('s3')\n",
        "\n",
        "    for filename in os.listdir(local_folder):\n",
        "        file_path = os.path.join(local_folder, filename)\n",
        "\n",
        "        if os.path.isfile(file_path):\n",
        "            try:\n",
        "                s3_key = f\"{s3_subfolder}/{filename}\"\n",
        "                # Upload the file without setting ACL\n",
        "                s3_client.upload_file(file_path, bucket_name, s3_key)\n",
        "                print(f\"Successfully uploaded: {filename} to {bucket_name}/{s3_key}\")\n",
        "            except Exception as e:\n",
        "                print(f\"Error uploading {filename}: {e}\")\n",
        "\n",
        "upload_images_to_s3(\"/content/drive/MyDrive/lcai_patches\", \"_\", \"tif_patches\")\n",
        "upload_images_to_s3(\"/content/drive/MyDrive/lcai_street_images\", \"_\", \"street_images\")"
      ],
      "metadata": {
        "id": "nAD96h_hv_zO"
      },
      "execution_count": null,
      "outputs": []
    }
  ]
}